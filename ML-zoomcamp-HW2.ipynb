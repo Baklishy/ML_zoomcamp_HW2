{
 "cells": [
  {
   "cell_type": "code",
   "execution_count": 7,
   "metadata": {},
   "outputs": [],
   "source": [
    "import pandas as pd\n",
    "import numpy as np\n",
    "\n",
    "import seaborn as sns\n",
    "from matplotlib import pyplot as plt\n",
    "%matplotlib inline"
   ]
  },
  {
   "cell_type": "code",
   "execution_count": 8,
   "metadata": {},
   "outputs": [],
   "source": [
    "df = pd.read_csv('C:\\\\Users\\\\Muhammad Elbaklishy\\\\Downloads\\\\laptops.csv')"
   ]
  },
  {
   "cell_type": "code",
   "execution_count": 9,
   "metadata": {},
   "outputs": [],
   "source": [
    "df.columns = df.columns.str.lower().str.replace(' ', '_')"
   ]
  },
  {
   "cell_type": "code",
   "execution_count": 10,
   "metadata": {},
   "outputs": [],
   "source": [
    "# Select relevant columns\n",
    "df = df[['ram', 'storage', 'screen', 'final_price']]"
   ]
  },
  {
   "cell_type": "code",
   "execution_count": 11,
   "metadata": {},
   "outputs": [
    {
     "name": "stdout",
     "output_type": "stream",
     "text": [
      "ram            0\n",
      "storage        0\n",
      "screen         4\n",
      "final_price    0\n",
      "dtype: int64\n"
     ]
    }
   ],
   "source": [
    "missing_values = df.isnull().sum()\n",
    "print(missing_values)"
   ]
  },
  {
   "cell_type": "code",
   "execution_count": 12,
   "metadata": {},
   "outputs": [
    {
     "name": "stdout",
     "output_type": "stream",
     "text": [
      "Median RAM: 16.0\n"
     ]
    }
   ],
   "source": [
    "median_ram = df['ram'].median()\n",
    "print(\"Median RAM:\", median_ram)"
   ]
  },
  {
   "cell_type": "code",
   "execution_count": 13,
   "metadata": {},
   "outputs": [],
   "source": [
    "# Shuffle and split the dataset\n",
    "np.random.seed(42)\n",
    "n = len(df)\n",
    "n_val = int(0.2 * n)\n",
    "n_test = int(0.2 * n)\n",
    "n_train = n - (n_val + n_test)\n",
    "\n",
    "idx = np.arange(n)\n",
    "np.random.shuffle(idx)\n",
    "\n",
    "df_shuffled = df.iloc[idx]\n",
    "df_train = df_shuffled.iloc[:n_train].copy()\n",
    "df_val = df_shuffled.iloc[n_train:n_train + n_val].copy()\n",
    "df_test = df_shuffled.iloc[n_train + n_val:].copy()"
   ]
  },
  {
   "cell_type": "code",
   "execution_count": 14,
   "metadata": {},
   "outputs": [
    {
     "name": "stdout",
     "output_type": "stream",
     "text": [
      "RMSE with 0: 597.36\n",
      "RMSE with mean: 600.36\n",
      "Best option: With 0\n"
     ]
    }
   ],
   "source": [
    "# Fill with 0\n",
    "df_train_zero = df_train.fillna(0)\n",
    "df_val_zero = df_val.fillna(0)\n",
    "\n",
    "X_train_zero = df_train_zero[['ram', 'storage', 'screen']].values\n",
    "y_train_zero = df_train_zero['final_price'].values\n",
    "\n",
    "# Function to train linear regression without regularization\n",
    "def train_linear_regression(X, y):\n",
    "    ones = np.ones(X.shape[0])\n",
    "    X = np.column_stack([ones, X])\n",
    "    \n",
    "    XTX = X.T.dot(X)\n",
    "    XTX_inv = np.linalg.inv(XTX)\n",
    "    w = XTX_inv.dot(X.T).dot(y)\n",
    "    \n",
    "    return w[0], w[1:]\n",
    "\n",
    "# Train with zero-filled data\n",
    "w_0_zero, w_zero = train_linear_regression(X_train_zero, y_train_zero)\n",
    "\n",
    "# Make predictions\n",
    "X_val_zero = df_val_zero[['ram', 'storage', 'screen']].values\n",
    "y_pred_zero = w_0_zero + X_val_zero.dot(w_zero)\n",
    "rmse_zero = np.sqrt(np.mean((df_val_zero['final_price'].values - y_pred_zero) ** 2))\n",
    "\n",
    "# Fill with mean\n",
    "mean_ram = df_train['ram'].mean()\n",
    "df_train_mean = df_train.fillna(mean_ram)\n",
    "df_val_mean = df_val.fillna(mean_ram)\n",
    "\n",
    "X_train_mean = df_train_mean[['ram', 'storage', 'screen']].values\n",
    "y_train_mean = df_train_mean['final_price'].values\n",
    "\n",
    "# Train with mean-filled data\n",
    "w_0_mean, w_mean = train_linear_regression(X_train_mean, y_train_mean)\n",
    "\n",
    "# Make predictions\n",
    "X_val_mean = df_val_mean[['ram', 'storage', 'screen']].values\n",
    "y_pred_mean = w_0_mean + X_val_mean.dot(w_mean)\n",
    "rmse_mean = np.sqrt(np.mean((df_val_mean['final_price'].values - y_pred_mean) ** 2))\n",
    "\n",
    "# Print RMSE\n",
    "print(f\"RMSE with 0: {round(rmse_zero, 2)}\")\n",
    "print(f\"RMSE with mean: {round(rmse_mean, 2)}\")\n",
    "\n",
    "# Determine the best option\n",
    "best_option = \"With 0\" if rmse_zero < rmse_mean else \"With mean\" if rmse_zero > rmse_mean else \"Both are equally good\"\n",
    "print(f\"Best option: {best_option}\")"
   ]
  },
  {
   "cell_type": "code",
   "execution_count": 15,
   "metadata": {},
   "outputs": [
    {
     "name": "stdout",
     "output_type": "stream",
     "text": [
      "\n",
      "Regularized Linear Regression Results:\n",
      "r=0, RMSE=597.36\n",
      "r=0.01, RMSE=597.36\n",
      "r=0.1, RMSE=597.35\n",
      "r=1, RMSE=597.21\n",
      "r=5, RMSE=597.01\n",
      "r=10, RMSE=597.06\n",
      "r=100, RMSE=597.90\n"
     ]
    }
   ],
   "source": [
    "def train_linear_regression_reg(X, y, r=0.0):\n",
    "    ones = np.ones(X.shape[0])\n",
    "    X = np.column_stack([ones, X])\n",
    "    \n",
    "    XTX = X.T.dot(X)\n",
    "    reg = r * np.eye(XTX.shape[0])\n",
    "    XTX = XTX + reg\n",
    "    \n",
    "    XTX_inv = np.linalg.inv(XTX)\n",
    "    w = XTX_inv.dot(X.T).dot(y)\n",
    "    \n",
    "    return w[0], w[1:]\n",
    "\n",
    "# Evaluate different r values\n",
    "print(\"\\nRegularized Linear Regression Results:\")\n",
    "for r in [0, 0.01, 0.1, 1, 5, 10, 100]:\n",
    "    w_0, w = train_linear_regression_reg(X_train_zero, y_train_zero, r=r)\n",
    "    \n",
    "    # Make predictions on the validation set\n",
    "    y_pred = w_0 + X_val_zero.dot(w)\n",
    "    print(f'r={r}, RMSE={np.sqrt(np.mean((df_val_zero[\"final_price\"].values - y_pred) ** 2)):.2f}')"
   ]
  },
  {
   "cell_type": "code",
   "execution_count": 16,
   "metadata": {},
   "outputs": [
    {
     "name": "stdout",
     "output_type": "stream",
     "text": [
      "Standard deviation of RMSE scores: 29.176\n"
     ]
    }
   ],
   "source": [
    "rmse_scores = []\n",
    "\n",
    "for seed in range(10):\n",
    "    # Shuffle the dataset with the given seed\n",
    "    np.random.seed(seed)\n",
    "    idx = np.arange(len(df))\n",
    "    np.random.shuffle(idx)\n",
    "    df_shuffled = df.iloc[idx]\n",
    "    \n",
    "    # Calculate sizes of train, validation, and test sets\n",
    "    n = len(df)\n",
    "    n_train = int(0.6 * n)  # 60% for training\n",
    "    n_val = int(0.2 * n)    # 20% for validation\n",
    "    n_test = n - (n_train + n_val)  # Remaining 20% for test\n",
    "    \n",
    "    # Split dataset into training, validation, and test sets\n",
    "    df_train = df_shuffled.iloc[:n_train].copy()\n",
    "    df_val = df_shuffled.iloc[n_train:n_train + n_val].copy()\n",
    "    df_test = df_shuffled.iloc[n_train + n_val:].copy()\n",
    "    \n",
    "    # Fill missing values with 0\n",
    "    df_train = df_train.fillna(0)\n",
    "    df_val = df_val.fillna(0)\n",
    "    df_test = df_test.fillna(0)\n",
    "    \n",
    "    # Extract input features and target variable for training\n",
    "    X_train = df_train[['ram', 'storage', 'screen']].values\n",
    "    y_train = df_train['final_price'].values\n",
    "    \n",
    "    # Train the model\n",
    "    w_0, w = train_linear_regression(X_train, y_train)\n",
    "    \n",
    "    # Make predictions on the validation set\n",
    "    X_val = df_val[['ram', 'storage', 'screen']].values\n",
    "    y_pred = w_0 + X_val.dot(w)\n",
    "    \n",
    "    # Calculate RMSE and append to the list\n",
    "    rmse = np.sqrt(np.mean((df_val['final_price'].values - y_pred) ** 2))\n",
    "    rmse_scores.append(rmse)\n",
    "\n",
    "# Calculate standard deviation of RMSE scores\n",
    "std_dev = np.std(rmse_scores)\n",
    "print(f\"Standard deviation of RMSE scores: {round(std_dev, 3)}\")"
   ]
  },
  {
   "cell_type": "code",
   "execution_count": 17,
   "metadata": {},
   "outputs": [
    {
     "name": "stdout",
     "output_type": "stream",
     "text": [
      "Train size: 1296, Validation size: 432, Test size: 432\n",
      "RMSE on test dataset: 608.61\n"
     ]
    }
   ],
   "source": [
    "# Shuffle the dataset\n",
    "np.random.seed(9)\n",
    "idx = np.arange(len(df))\n",
    "np.random.shuffle(idx)\n",
    "df_shuffled = df.iloc[idx]\n",
    "\n",
    "# Define sizes for train, validation, and test sets\n",
    "n = len(df)\n",
    "n_train = int(0.6 * n)  # 60% for training\n",
    "n_val = int(0.2 * n)    # 20% for validation\n",
    "n_test = n - (n_train + n_val)  # Remaining for test\n",
    "\n",
    "# Check if there is enough data\n",
    "if n_train < 1 or n_val < 1 or n_test < 1:\n",
    "    raise ValueError(\"Not enough data to create training, validation, and test sets.\")\n",
    "\n",
    "# Split the dataset\n",
    "df_train = df_shuffled.iloc[:n_train].fillna(0)\n",
    "df_val = df_shuffled.iloc[n_train:n_train + n_val].fillna(0)\n",
    "df_test = df_shuffled.iloc[n_train + n_val:].fillna(0)\n",
    "\n",
    "# Print the sizes of the datasets\n",
    "print(f\"Train size: {len(df_train)}, Validation size: {len(df_val)}, Test size: {len(df_test)}\")\n",
    "\n",
    "# Prepare the combined training and validation dataset\n",
    "df_combined = pd.concat([df_train, df_val])\n",
    "\n",
    "X_train_combined = df_combined[['ram', 'storage', 'screen']].values\n",
    "y_train_combined = df_combined['final_price'].values\n",
    "\n",
    "# Train model with r=0.001\n",
    "w_0_combined, w_combined = train_linear_regression_reg(X_train_combined, y_train_combined, r=0.001)\n",
    "\n",
    "# Prepare the test dataset\n",
    "# The test dataset should already have data after the split\n",
    "X_test = df_test[['ram', 'storage', 'screen']].fillna(0).values\n",
    "\n",
    "# Check if the test dataset is empty\n",
    "if df_test.empty:\n",
    "    raise ValueError(\"Test dataset is empty.\")\n",
    "\n",
    "# Make predictions on the test dataset\n",
    "y_pred_test = w_0_combined + X_test.dot(w_combined)\n",
    "\n",
    "# Calculate RMSE\n",
    "rmse_test = np.sqrt(np.mean((df_test['final_price'].values - y_pred_test) ** 2))\n",
    "print(f\"RMSE on test dataset: {round(rmse_test, 2)}\")"
   ]
  }
 ],
 "metadata": {
  "kernelspec": {
   "display_name": "Python 3",
   "language": "python",
   "name": "python3"
  },
  "language_info": {
   "codemirror_mode": {
    "name": "ipython",
    "version": 3
   },
   "file_extension": ".py",
   "mimetype": "text/x-python",
   "name": "python",
   "nbconvert_exporter": "python",
   "pygments_lexer": "ipython3",
   "version": "3.11.3"
  }
 },
 "nbformat": 4,
 "nbformat_minor": 2
}
